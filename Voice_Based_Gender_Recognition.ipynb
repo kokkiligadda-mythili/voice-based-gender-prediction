{
  "nbformat": 4,
  "nbformat_minor": 0,
  "metadata": {
    "colab": {
      "provenance": [],
      "gpuType": "T4"
    },
    "kernelspec": {
      "name": "python3",
      "display_name": "Python 3"
    },
    "language_info": {
      "name": "python"
    },
    "accelerator": "GPU"
  },
  "cells": [
    {
      "cell_type": "code",
      "source": [
        "!pip install pydub"
      ],
      "metadata": {
        "colab": {
          "base_uri": "https://localhost:8080/"
        },
        "id": "PEguVxRT13wj",
        "outputId": "9ccd749b-369e-4d35-ded7-0fc721bc88d3"
      },
      "execution_count": 2,
      "outputs": [
        {
          "output_type": "stream",
          "name": "stdout",
          "text": [
            "Collecting pydub\n",
            "  Downloading pydub-0.25.1-py2.py3-none-any.whl (32 kB)\n",
            "Installing collected packages: pydub\n",
            "Successfully installed pydub-0.25.1\n"
          ]
        }
      ]
    },
    {
      "cell_type": "code",
      "execution_count": 3,
      "metadata": {
        "id": "GB_ECVfe1ijd"
      },
      "outputs": [],
      "source": [
        "import os\n",
        "import numpy as np\n",
        "import librosa\n",
        "from pydub import AudioSegment\n",
        "from sklearn.model_selection import train_test_split\n",
        "from sklearn.feature_selection import SelectKBest, f_classif\n",
        "from sklearn.preprocessing import StandardScaler\n",
        "from tensorflow.keras.models import Sequential\n",
        "from tensorflow.keras.layers import LSTM, Dense, Dropout\n",
        "from tensorflow.keras.utils import to_categorical\n",
        "from google.colab import drive\n"
      ]
    },
    {
      "cell_type": "code",
      "source": [
        "from google.colab import drive\n",
        "drive.mount('/content/drive')"
      ],
      "metadata": {
        "colab": {
          "base_uri": "https://localhost:8080/"
        },
        "id": "y19fiLy81qUN",
        "outputId": "56e97127-e381-4a8b-d9b6-69781b52178c"
      },
      "execution_count": 4,
      "outputs": [
        {
          "output_type": "stream",
          "name": "stdout",
          "text": [
            "Mounted at /content/drive\n"
          ]
        }
      ]
    },
    {
      "cell_type": "code",
      "source": [
        "# Define function to convert m4a audio files to wav format\n",
        "def convert_to_wav(input_path, output_path):\n",
        "    audio = AudioSegment.from_file(input_path)\n",
        "    audio.export(output_path, format=\"wav\")"
      ],
      "metadata": {
        "id": "jKlDahob2DeH"
      },
      "execution_count": 5,
      "outputs": []
    },
    {
      "cell_type": "code",
      "source": [
        "# Define function to load audio files and handle background noise\n",
        "def load_audio(file_path):\n",
        "    audio_data, _ = librosa.load(file_path, sr=16000)  # Resample to 16 kHz\n",
        "    return audio_data"
      ],
      "metadata": {
        "id": "NQl4LcFF2bf_"
      },
      "execution_count": 6,
      "outputs": []
    },
    {
      "cell_type": "code",
      "source": [
        "# Define function to extract MFCC features from audio data\n",
        "def extract_mfcc(audio_data):\n",
        "    mfccs = librosa.feature.mfcc(y=audio_data, sr=16000, n_mfcc=40)\n",
        "    mfccs_mean = np.mean(mfccs.T, axis=0)  # Take average of MFCCs over time\n",
        "    return mfccs_mean"
      ],
      "metadata": {
        "id": "fKYAV54D2eDB"
      },
      "execution_count": 7,
      "outputs": []
    },
    {
      "cell_type": "code",
      "source": [
        "def preprocess_audio(audio_dir):\n",
        "    X = []\n",
        "    y = []\n",
        "    for label, sub_dir in enumerate([\"females\", \"males\"]):\n",
        "        sub_dir_path = os.path.join(audio_dir, sub_dir)\n",
        "        for file_name in os.listdir(sub_dir_path):\n",
        "            file_path = os.path.join(sub_dir_path, file_name)\n",
        "            if file_path.endswith('.m4a'):\n",
        "                # Convert m4a files to wav format\n",
        "                wav_file_path = os.path.splitext(file_path)[0] + '.wav'\n",
        "                convert_to_wav(file_path, wav_file_path)\n",
        "                audio_data = load_audio(wav_file_path)\n",
        "                mfccs = extract_mfcc(audio_data)\n",
        "                X.append(mfccs)\n",
        "                y.append(label)\n",
        "    return np.array(X), np.array(y)"
      ],
      "metadata": {
        "id": "c3zp9KBO2kDQ"
      },
      "execution_count": 8,
      "outputs": []
    },
    {
      "cell_type": "code",
      "source": [
        "# Define data directory\n",
        "data_dir = '/content/drive/My Drive/VoxCeleb_gender/'"
      ],
      "metadata": {
        "id": "6QmD14nA2wrp"
      },
      "execution_count": 9,
      "outputs": []
    },
    {
      "cell_type": "code",
      "source": [
        "# Preprocess audio files\n",
        "X, y = preprocess_audio(data_dir)"
      ],
      "metadata": {
        "id": "4dp05_7T23v4"
      },
      "execution_count": 10,
      "outputs": []
    },
    {
      "cell_type": "code",
      "source": [
        "# Perform feature selection using SelectKBest and ANOVA F-value\n",
        "selector = SelectKBest(score_func=f_classif, k=20)  # Select top 20 features\n",
        "X_selected = selector.fit_transform(X, y)"
      ],
      "metadata": {
        "id": "YWeyN5et27Rs"
      },
      "execution_count": 11,
      "outputs": []
    },
    {
      "cell_type": "code",
      "source": [
        "# Perform train-test split\n",
        "X_train, X_test, y_train, y_test = train_test_split(X_selected, y, test_size=0.2, random_state=42)\n"
      ],
      "metadata": {
        "id": "bsdnXvM43owk"
      },
      "execution_count": 12,
      "outputs": []
    },
    {
      "cell_type": "code",
      "source": [
        "# Normalize features\n",
        "scaler = StandardScaler()\n",
        "X_train_scaled = scaler.fit_transform(X_train)\n",
        "X_test_scaled = scaler.transform(X_test)"
      ],
      "metadata": {
        "id": "neJ9jX7S3oew"
      },
      "execution_count": 13,
      "outputs": []
    },
    {
      "cell_type": "code",
      "source": [
        "# Convert labels to one-hot encoding\n",
        "num_classes = 2  # females and males\n",
        "y_train = to_categorical(y_train, num_classes)\n",
        "y_test = to_categorical(y_test, num_classes)"
      ],
      "metadata": {
        "id": "z-7K0bJA5ybx"
      },
      "execution_count": 14,
      "outputs": []
    },
    {
      "cell_type": "code",
      "source": [
        "# Reshape input data to include time steps\n",
        "X_train_scaled = np.reshape(X_train_scaled, (X_train_scaled.shape[0], 1, X_train_scaled.shape[1]))\n",
        "X_test_scaled = np.reshape(X_test_scaled, (X_test_scaled.shape[0], 1, X_test_scaled.shape[1]))\n"
      ],
      "metadata": {
        "id": "y6HDJVqM51a8"
      },
      "execution_count": 15,
      "outputs": []
    },
    {
      "cell_type": "code",
      "source": [
        "import tensorflow as tf\n",
        "from tensorflow.keras.layers import BatchNormalization\n",
        "from tensorflow.keras.callbacks import LearningRateScheduler"
      ],
      "metadata": {
        "id": "7-iLSOlK552_"
      },
      "execution_count": 16,
      "outputs": []
    },
    {
      "cell_type": "code",
      "source": [
        "# Define LSTM model with learning rate scheduling and batch normalization\n",
        "model = Sequential([\n",
        "    LSTM(units=128, input_shape=(1, X_train_scaled.shape[2]), return_sequences=True),\n",
        "    Dropout(0.5),\n",
        "    BatchNormalization(),\n",
        "    LSTM(units=128),\n",
        "    Dropout(0.5),\n",
        "    Dense(units=num_classes, activation='softmax')\n",
        "])"
      ],
      "metadata": {
        "id": "FVXPV9T-59EQ"
      },
      "execution_count": 17,
      "outputs": []
    },
    {
      "cell_type": "code",
      "source": [
        "# Learning rate scheduler function\n",
        "def lr_scheduler(epoch, lr):\n",
        "    if epoch < 10:\n",
        "        return lr  # Keep the initial learning rate for the first 10 epochs\n",
        "    else:\n",
        "        return lr * tf.math.exp(-0.1)"
      ],
      "metadata": {
        "id": "pKVPIUMk5_ny"
      },
      "execution_count": 18,
      "outputs": []
    },
    {
      "cell_type": "code",
      "source": [
        "# Compile model with learning rate scheduler\n",
        "model.compile(optimizer=tf.keras.optimizers.Adam(learning_rate=0.001), loss='categorical_crossentropy', metrics=['accuracy'])"
      ],
      "metadata": {
        "id": "P0UcpOCI6CJE"
      },
      "execution_count": 19,
      "outputs": []
    },
    {
      "cell_type": "code",
      "source": [
        "# Define learning rate scheduler callback\n",
        "lr_callback = LearningRateScheduler(lr_scheduler)"
      ],
      "metadata": {
        "id": "oISo5ftE6Imr"
      },
      "execution_count": 20,
      "outputs": []
    },
    {
      "cell_type": "code",
      "source": [
        "# Train model with learning rate scheduler and batch normalization\n",
        "history = model.fit(X_train_scaled, y_train, epochs=50, batch_size=64, validation_data=(X_test_scaled, y_test), callbacks=[lr_callback])"
      ],
      "metadata": {
        "colab": {
          "base_uri": "https://localhost:8080/"
        },
        "id": "fxVzi47R6MZo",
        "outputId": "9cac9db4-1f75-4418-98f5-febcd6c1f298"
      },
      "execution_count": 21,
      "outputs": [
        {
          "output_type": "stream",
          "name": "stdout",
          "text": [
            "Epoch 1/50\n",
            "76/76 [==============================] - 9s 19ms/step - loss: 0.3716 - accuracy: 0.8409 - val_loss: 0.4762 - val_accuracy: 0.8010 - lr: 0.0010\n",
            "Epoch 2/50\n",
            "76/76 [==============================] - 1s 8ms/step - loss: 0.3017 - accuracy: 0.8771 - val_loss: 0.4222 - val_accuracy: 0.8193 - lr: 0.0010\n",
            "Epoch 3/50\n",
            "76/76 [==============================] - 1s 8ms/step - loss: 0.2940 - accuracy: 0.8848 - val_loss: 0.3815 - val_accuracy: 0.8310 - lr: 0.0010\n",
            "Epoch 4/50\n",
            "76/76 [==============================] - 1s 8ms/step - loss: 0.2914 - accuracy: 0.8819 - val_loss: 0.3308 - val_accuracy: 0.8585 - lr: 0.0010\n",
            "Epoch 5/50\n",
            "76/76 [==============================] - 1s 8ms/step - loss: 0.2852 - accuracy: 0.8832 - val_loss: 0.2962 - val_accuracy: 0.8776 - lr: 0.0010\n",
            "Epoch 6/50\n",
            "76/76 [==============================] - 1s 8ms/step - loss: 0.2861 - accuracy: 0.8867 - val_loss: 0.2859 - val_accuracy: 0.8834 - lr: 0.0010\n",
            "Epoch 7/50\n",
            "76/76 [==============================] - 1s 8ms/step - loss: 0.2810 - accuracy: 0.8853 - val_loss: 0.2838 - val_accuracy: 0.8843 - lr: 0.0010\n",
            "Epoch 8/50\n",
            "76/76 [==============================] - 1s 8ms/step - loss: 0.2785 - accuracy: 0.8873 - val_loss: 0.2827 - val_accuracy: 0.8868 - lr: 0.0010\n",
            "Epoch 9/50\n",
            "76/76 [==============================] - 1s 8ms/step - loss: 0.2826 - accuracy: 0.8898 - val_loss: 0.2841 - val_accuracy: 0.8851 - lr: 0.0010\n",
            "Epoch 10/50\n",
            "76/76 [==============================] - 1s 8ms/step - loss: 0.2671 - accuracy: 0.8936 - val_loss: 0.2840 - val_accuracy: 0.8901 - lr: 0.0010\n",
            "Epoch 11/50\n",
            "76/76 [==============================] - 1s 8ms/step - loss: 0.2774 - accuracy: 0.8907 - val_loss: 0.2816 - val_accuracy: 0.8843 - lr: 9.0484e-04\n",
            "Epoch 12/50\n",
            "76/76 [==============================] - 1s 8ms/step - loss: 0.2680 - accuracy: 0.8934 - val_loss: 0.2813 - val_accuracy: 0.8884 - lr: 8.1873e-04\n",
            "Epoch 13/50\n",
            "76/76 [==============================] - 1s 8ms/step - loss: 0.2626 - accuracy: 0.8969 - val_loss: 0.2800 - val_accuracy: 0.8851 - lr: 7.4082e-04\n",
            "Epoch 14/50\n",
            "76/76 [==============================] - 1s 12ms/step - loss: 0.2669 - accuracy: 0.8940 - val_loss: 0.2796 - val_accuracy: 0.8876 - lr: 6.7032e-04\n",
            "Epoch 15/50\n",
            "76/76 [==============================] - 1s 11ms/step - loss: 0.2623 - accuracy: 0.8990 - val_loss: 0.2777 - val_accuracy: 0.8826 - lr: 6.0653e-04\n",
            "Epoch 16/50\n",
            "76/76 [==============================] - 1s 11ms/step - loss: 0.2635 - accuracy: 0.8953 - val_loss: 0.2786 - val_accuracy: 0.8834 - lr: 5.4881e-04\n",
            "Epoch 17/50\n",
            "76/76 [==============================] - 1s 12ms/step - loss: 0.2554 - accuracy: 0.9009 - val_loss: 0.2775 - val_accuracy: 0.8901 - lr: 4.9659e-04\n",
            "Epoch 18/50\n",
            "76/76 [==============================] - 1s 10ms/step - loss: 0.2588 - accuracy: 0.8978 - val_loss: 0.2805 - val_accuracy: 0.8893 - lr: 4.4933e-04\n",
            "Epoch 19/50\n",
            "76/76 [==============================] - 1s 8ms/step - loss: 0.2569 - accuracy: 0.8984 - val_loss: 0.2760 - val_accuracy: 0.8926 - lr: 4.0657e-04\n",
            "Epoch 20/50\n",
            "76/76 [==============================] - 1s 8ms/step - loss: 0.2597 - accuracy: 0.8955 - val_loss: 0.2776 - val_accuracy: 0.8934 - lr: 3.6788e-04\n",
            "Epoch 21/50\n",
            "76/76 [==============================] - 1s 8ms/step - loss: 0.2508 - accuracy: 0.8986 - val_loss: 0.2781 - val_accuracy: 0.8943 - lr: 3.3287e-04\n",
            "Epoch 22/50\n",
            "76/76 [==============================] - 1s 8ms/step - loss: 0.2509 - accuracy: 0.9017 - val_loss: 0.2783 - val_accuracy: 0.8943 - lr: 3.0119e-04\n",
            "Epoch 23/50\n",
            "76/76 [==============================] - 1s 8ms/step - loss: 0.2472 - accuracy: 0.9021 - val_loss: 0.2795 - val_accuracy: 0.8893 - lr: 2.7253e-04\n",
            "Epoch 24/50\n",
            "76/76 [==============================] - 1s 8ms/step - loss: 0.2531 - accuracy: 0.9023 - val_loss: 0.2790 - val_accuracy: 0.8943 - lr: 2.4660e-04\n",
            "Epoch 25/50\n",
            "76/76 [==============================] - 1s 8ms/step - loss: 0.2489 - accuracy: 0.9034 - val_loss: 0.2785 - val_accuracy: 0.8943 - lr: 2.2313e-04\n",
            "Epoch 26/50\n",
            "76/76 [==============================] - 1s 8ms/step - loss: 0.2482 - accuracy: 0.9046 - val_loss: 0.2775 - val_accuracy: 0.8926 - lr: 2.0190e-04\n",
            "Epoch 27/50\n",
            "76/76 [==============================] - 1s 8ms/step - loss: 0.2510 - accuracy: 0.8992 - val_loss: 0.2782 - val_accuracy: 0.8968 - lr: 1.8268e-04\n",
            "Epoch 28/50\n",
            "76/76 [==============================] - 1s 8ms/step - loss: 0.2514 - accuracy: 0.8994 - val_loss: 0.2779 - val_accuracy: 0.8934 - lr: 1.6530e-04\n",
            "Epoch 29/50\n",
            "76/76 [==============================] - 1s 8ms/step - loss: 0.2438 - accuracy: 0.9038 - val_loss: 0.2785 - val_accuracy: 0.8926 - lr: 1.4957e-04\n",
            "Epoch 30/50\n",
            "76/76 [==============================] - 1s 8ms/step - loss: 0.2497 - accuracy: 0.9038 - val_loss: 0.2787 - val_accuracy: 0.8934 - lr: 1.3534e-04\n",
            "Epoch 31/50\n",
            "76/76 [==============================] - 1s 8ms/step - loss: 0.2473 - accuracy: 0.9015 - val_loss: 0.2771 - val_accuracy: 0.8918 - lr: 1.2246e-04\n",
            "Epoch 32/50\n",
            "76/76 [==============================] - 1s 8ms/step - loss: 0.2489 - accuracy: 0.9019 - val_loss: 0.2770 - val_accuracy: 0.8901 - lr: 1.1080e-04\n",
            "Epoch 33/50\n",
            "76/76 [==============================] - 1s 9ms/step - loss: 0.2477 - accuracy: 0.9052 - val_loss: 0.2778 - val_accuracy: 0.8884 - lr: 1.0026e-04\n",
            "Epoch 34/50\n",
            "76/76 [==============================] - 1s 11ms/step - loss: 0.2452 - accuracy: 0.9046 - val_loss: 0.2785 - val_accuracy: 0.8876 - lr: 9.0718e-05\n",
            "Epoch 35/50\n",
            "76/76 [==============================] - 1s 15ms/step - loss: 0.2487 - accuracy: 0.9005 - val_loss: 0.2778 - val_accuracy: 0.8851 - lr: 8.2085e-05\n",
            "Epoch 36/50\n",
            "76/76 [==============================] - 1s 13ms/step - loss: 0.2474 - accuracy: 0.9034 - val_loss: 0.2778 - val_accuracy: 0.8884 - lr: 7.4273e-05\n",
            "Epoch 37/50\n",
            "76/76 [==============================] - 1s 13ms/step - loss: 0.2464 - accuracy: 0.9042 - val_loss: 0.2787 - val_accuracy: 0.8893 - lr: 6.7205e-05\n",
            "Epoch 38/50\n",
            "76/76 [==============================] - 1s 13ms/step - loss: 0.2494 - accuracy: 0.8994 - val_loss: 0.2781 - val_accuracy: 0.8893 - lr: 6.0810e-05\n",
            "Epoch 39/50\n",
            "76/76 [==============================] - 1s 13ms/step - loss: 0.2439 - accuracy: 0.9061 - val_loss: 0.2785 - val_accuracy: 0.8884 - lr: 5.5023e-05\n",
            "Epoch 40/50\n",
            "76/76 [==============================] - 1s 14ms/step - loss: 0.2475 - accuracy: 0.9044 - val_loss: 0.2778 - val_accuracy: 0.8876 - lr: 4.9787e-05\n",
            "Epoch 41/50\n",
            "76/76 [==============================] - 1s 9ms/step - loss: 0.2459 - accuracy: 0.9040 - val_loss: 0.2784 - val_accuracy: 0.8868 - lr: 4.5049e-05\n",
            "Epoch 42/50\n",
            "76/76 [==============================] - 1s 8ms/step - loss: 0.2451 - accuracy: 0.9040 - val_loss: 0.2790 - val_accuracy: 0.8893 - lr: 4.0762e-05\n",
            "Epoch 43/50\n",
            "76/76 [==============================] - 1s 8ms/step - loss: 0.2455 - accuracy: 0.9009 - val_loss: 0.2785 - val_accuracy: 0.8893 - lr: 3.6883e-05\n",
            "Epoch 44/50\n",
            "76/76 [==============================] - 1s 8ms/step - loss: 0.2444 - accuracy: 0.9065 - val_loss: 0.2795 - val_accuracy: 0.8893 - lr: 3.3373e-05\n",
            "Epoch 45/50\n",
            "76/76 [==============================] - 1s 8ms/step - loss: 0.2417 - accuracy: 0.9073 - val_loss: 0.2794 - val_accuracy: 0.8893 - lr: 3.0197e-05\n",
            "Epoch 46/50\n",
            "76/76 [==============================] - 1s 8ms/step - loss: 0.2431 - accuracy: 0.9063 - val_loss: 0.2786 - val_accuracy: 0.8876 - lr: 2.7324e-05\n",
            "Epoch 47/50\n",
            "76/76 [==============================] - 1s 8ms/step - loss: 0.2435 - accuracy: 0.9075 - val_loss: 0.2782 - val_accuracy: 0.8868 - lr: 2.4723e-05\n",
            "Epoch 48/50\n",
            "76/76 [==============================] - 1s 8ms/step - loss: 0.2496 - accuracy: 0.9019 - val_loss: 0.2789 - val_accuracy: 0.8893 - lr: 2.2371e-05\n",
            "Epoch 49/50\n",
            "76/76 [==============================] - 1s 8ms/step - loss: 0.2421 - accuracy: 0.9032 - val_loss: 0.2789 - val_accuracy: 0.8884 - lr: 2.0242e-05\n",
            "Epoch 50/50\n",
            "76/76 [==============================] - 1s 8ms/step - loss: 0.2492 - accuracy: 0.9021 - val_loss: 0.2788 - val_accuracy: 0.8884 - lr: 1.8316e-05\n"
          ]
        }
      ]
    },
    {
      "cell_type": "code",
      "source": [
        "test_loss, test_accuracy = model.evaluate(X_test_scaled, y_test)\n",
        "print(\"Test Loss:\", test_loss)\n",
        "print(\"Test Accuracy:\", test_accuracy)"
      ],
      "metadata": {
        "colab": {
          "base_uri": "https://localhost:8080/"
        },
        "id": "mQG3_yvB6Ra3",
        "outputId": "a487374e-4de9-4970-a9ec-b59666bd82b1"
      },
      "execution_count": 22,
      "outputs": [
        {
          "output_type": "stream",
          "name": "stdout",
          "text": [
            "38/38 [==============================] - 0s 5ms/step - loss: 0.2788 - accuracy: 0.8884\n",
            "Test Loss: 0.27884936332702637\n",
            "Test Accuracy: 0.8884263038635254\n"
          ]
        }
      ]
    },
    {
      "cell_type": "code",
      "source": [
        "from google.colab import files"
      ],
      "metadata": {
        "id": "VN8qBLzT6Uwd"
      },
      "execution_count": 23,
      "outputs": []
    },
    {
      "cell_type": "code",
      "source": [
        "# Upload audio file\n",
        "uploaded = files.upload()"
      ],
      "metadata": {
        "colab": {
          "base_uri": "https://localhost:8080/",
          "height": 73
        },
        "id": "wJwtDdHG6XEN",
        "outputId": "c3859baf-5867-4ae3-f8e2-8f5be6c2135e"
      },
      "execution_count": 24,
      "outputs": [
        {
          "output_type": "display_data",
          "data": {
            "text/plain": [
              "<IPython.core.display.HTML object>"
            ],
            "text/html": [
              "\n",
              "     <input type=\"file\" id=\"files-24863757-df1c-42f2-a6f5-f56d0b735ae6\" name=\"files[]\" multiple disabled\n",
              "        style=\"border:none\" />\n",
              "     <output id=\"result-24863757-df1c-42f2-a6f5-f56d0b735ae6\">\n",
              "      Upload widget is only available when the cell has been executed in the\n",
              "      current browser session. Please rerun this cell to enable.\n",
              "      </output>\n",
              "      <script>// Copyright 2017 Google LLC\n",
              "//\n",
              "// Licensed under the Apache License, Version 2.0 (the \"License\");\n",
              "// you may not use this file except in compliance with the License.\n",
              "// You may obtain a copy of the License at\n",
              "//\n",
              "//      http://www.apache.org/licenses/LICENSE-2.0\n",
              "//\n",
              "// Unless required by applicable law or agreed to in writing, software\n",
              "// distributed under the License is distributed on an \"AS IS\" BASIS,\n",
              "// WITHOUT WARRANTIES OR CONDITIONS OF ANY KIND, either express or implied.\n",
              "// See the License for the specific language governing permissions and\n",
              "// limitations under the License.\n",
              "\n",
              "/**\n",
              " * @fileoverview Helpers for google.colab Python module.\n",
              " */\n",
              "(function(scope) {\n",
              "function span(text, styleAttributes = {}) {\n",
              "  const element = document.createElement('span');\n",
              "  element.textContent = text;\n",
              "  for (const key of Object.keys(styleAttributes)) {\n",
              "    element.style[key] = styleAttributes[key];\n",
              "  }\n",
              "  return element;\n",
              "}\n",
              "\n",
              "// Max number of bytes which will be uploaded at a time.\n",
              "const MAX_PAYLOAD_SIZE = 100 * 1024;\n",
              "\n",
              "function _uploadFiles(inputId, outputId) {\n",
              "  const steps = uploadFilesStep(inputId, outputId);\n",
              "  const outputElement = document.getElementById(outputId);\n",
              "  // Cache steps on the outputElement to make it available for the next call\n",
              "  // to uploadFilesContinue from Python.\n",
              "  outputElement.steps = steps;\n",
              "\n",
              "  return _uploadFilesContinue(outputId);\n",
              "}\n",
              "\n",
              "// This is roughly an async generator (not supported in the browser yet),\n",
              "// where there are multiple asynchronous steps and the Python side is going\n",
              "// to poll for completion of each step.\n",
              "// This uses a Promise to block the python side on completion of each step,\n",
              "// then passes the result of the previous step as the input to the next step.\n",
              "function _uploadFilesContinue(outputId) {\n",
              "  const outputElement = document.getElementById(outputId);\n",
              "  const steps = outputElement.steps;\n",
              "\n",
              "  const next = steps.next(outputElement.lastPromiseValue);\n",
              "  return Promise.resolve(next.value.promise).then((value) => {\n",
              "    // Cache the last promise value to make it available to the next\n",
              "    // step of the generator.\n",
              "    outputElement.lastPromiseValue = value;\n",
              "    return next.value.response;\n",
              "  });\n",
              "}\n",
              "\n",
              "/**\n",
              " * Generator function which is called between each async step of the upload\n",
              " * process.\n",
              " * @param {string} inputId Element ID of the input file picker element.\n",
              " * @param {string} outputId Element ID of the output display.\n",
              " * @return {!Iterable<!Object>} Iterable of next steps.\n",
              " */\n",
              "function* uploadFilesStep(inputId, outputId) {\n",
              "  const inputElement = document.getElementById(inputId);\n",
              "  inputElement.disabled = false;\n",
              "\n",
              "  const outputElement = document.getElementById(outputId);\n",
              "  outputElement.innerHTML = '';\n",
              "\n",
              "  const pickedPromise = new Promise((resolve) => {\n",
              "    inputElement.addEventListener('change', (e) => {\n",
              "      resolve(e.target.files);\n",
              "    });\n",
              "  });\n",
              "\n",
              "  const cancel = document.createElement('button');\n",
              "  inputElement.parentElement.appendChild(cancel);\n",
              "  cancel.textContent = 'Cancel upload';\n",
              "  const cancelPromise = new Promise((resolve) => {\n",
              "    cancel.onclick = () => {\n",
              "      resolve(null);\n",
              "    };\n",
              "  });\n",
              "\n",
              "  // Wait for the user to pick the files.\n",
              "  const files = yield {\n",
              "    promise: Promise.race([pickedPromise, cancelPromise]),\n",
              "    response: {\n",
              "      action: 'starting',\n",
              "    }\n",
              "  };\n",
              "\n",
              "  cancel.remove();\n",
              "\n",
              "  // Disable the input element since further picks are not allowed.\n",
              "  inputElement.disabled = true;\n",
              "\n",
              "  if (!files) {\n",
              "    return {\n",
              "      response: {\n",
              "        action: 'complete',\n",
              "      }\n",
              "    };\n",
              "  }\n",
              "\n",
              "  for (const file of files) {\n",
              "    const li = document.createElement('li');\n",
              "    li.append(span(file.name, {fontWeight: 'bold'}));\n",
              "    li.append(span(\n",
              "        `(${file.type || 'n/a'}) - ${file.size} bytes, ` +\n",
              "        `last modified: ${\n",
              "            file.lastModifiedDate ? file.lastModifiedDate.toLocaleDateString() :\n",
              "                                    'n/a'} - `));\n",
              "    const percent = span('0% done');\n",
              "    li.appendChild(percent);\n",
              "\n",
              "    outputElement.appendChild(li);\n",
              "\n",
              "    const fileDataPromise = new Promise((resolve) => {\n",
              "      const reader = new FileReader();\n",
              "      reader.onload = (e) => {\n",
              "        resolve(e.target.result);\n",
              "      };\n",
              "      reader.readAsArrayBuffer(file);\n",
              "    });\n",
              "    // Wait for the data to be ready.\n",
              "    let fileData = yield {\n",
              "      promise: fileDataPromise,\n",
              "      response: {\n",
              "        action: 'continue',\n",
              "      }\n",
              "    };\n",
              "\n",
              "    // Use a chunked sending to avoid message size limits. See b/62115660.\n",
              "    let position = 0;\n",
              "    do {\n",
              "      const length = Math.min(fileData.byteLength - position, MAX_PAYLOAD_SIZE);\n",
              "      const chunk = new Uint8Array(fileData, position, length);\n",
              "      position += length;\n",
              "\n",
              "      const base64 = btoa(String.fromCharCode.apply(null, chunk));\n",
              "      yield {\n",
              "        response: {\n",
              "          action: 'append',\n",
              "          file: file.name,\n",
              "          data: base64,\n",
              "        },\n",
              "      };\n",
              "\n",
              "      let percentDone = fileData.byteLength === 0 ?\n",
              "          100 :\n",
              "          Math.round((position / fileData.byteLength) * 100);\n",
              "      percent.textContent = `${percentDone}% done`;\n",
              "\n",
              "    } while (position < fileData.byteLength);\n",
              "  }\n",
              "\n",
              "  // All done.\n",
              "  yield {\n",
              "    response: {\n",
              "      action: 'complete',\n",
              "    }\n",
              "  };\n",
              "}\n",
              "\n",
              "scope.google = scope.google || {};\n",
              "scope.google.colab = scope.google.colab || {};\n",
              "scope.google.colab._files = {\n",
              "  _uploadFiles,\n",
              "  _uploadFilesContinue,\n",
              "};\n",
              "})(self);\n",
              "</script> "
            ]
          },
          "metadata": {}
        },
        {
          "output_type": "stream",
          "name": "stdout",
          "text": [
            "Saving audio1.opus to audio1.opus\n"
          ]
        }
      ]
    },
    {
      "cell_type": "code",
      "source": [
        "# Convert uploaded file to wav format\n",
        "uploaded_file_path = list(uploaded.keys())[0]\n",
        "converted_wav_file_path = uploaded_file_path.split('.')[0] + '.wav'\n",
        "convert_to_wav(uploaded_file_path, converted_wav_file_path)"
      ],
      "metadata": {
        "id": "w8YKDJFe6ZLF"
      },
      "execution_count": 25,
      "outputs": []
    },
    {
      "cell_type": "code",
      "source": [
        "# Load and preprocess the converted wav file\n",
        "audio_data = load_audio(converted_wav_file_path)\n",
        "mfccs = extract_mfcc(audio_data)\n",
        "selected_mfccs = selector.transform(mfccs.reshape(1, -1))  # Apply feature selection\n",
        "scaled_mfccs = scaler.transform(selected_mfccs)  # Apply feature scaling\n",
        "input_data = np.reshape(scaled_mfccs, (1, 1, scaled_mfccs.shape[1]))\n"
      ],
      "metadata": {
        "id": "yYFb2CK86bdS"
      },
      "execution_count": 26,
      "outputs": []
    },
    {
      "cell_type": "code",
      "source": [
        "# Predict gender using the trained model\n",
        "prediction = model.predict(input_data)\n",
        "predicted_class = np.argmax(prediction)\n",
        "gender = \"female\" if predicted_class == 0 else \"male\"\n",
        "print(f\"The predicted gender for {converted_wav_file_path} is: {gender}\")"
      ],
      "metadata": {
        "colab": {
          "base_uri": "https://localhost:8080/"
        },
        "id": "zqDUGrnk6nw3",
        "outputId": "a2eea967-96ab-469f-acdb-e6ce003def52"
      },
      "execution_count": 27,
      "outputs": [
        {
          "output_type": "stream",
          "name": "stdout",
          "text": [
            "1/1 [==============================] - 1s 687ms/step\n",
            "The predicted gender for audio1.wav is: female\n"
          ]
        }
      ]
    },
    {
      "cell_type": "code",
      "source": [],
      "metadata": {
        "id": "AxuLcpQM6qfF"
      },
      "execution_count": null,
      "outputs": []
    }
  ]
}